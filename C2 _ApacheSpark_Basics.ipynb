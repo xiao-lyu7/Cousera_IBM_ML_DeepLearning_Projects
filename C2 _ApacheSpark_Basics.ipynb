{
    "cells": [
        {
            "cell_type": "markdown",
            "metadata": {},
            "source": "# NOTES and Practice: IBM Course - Apache Spark for Scalable Machine Learning on BigData"
        },
        {
            "cell_type": "markdown",
            "metadata": {},
            "source": "# Resilient Distributed Dataset (RDD)\n\n- HDFS(Hadoop Distributed File System): retrives the combined storage capacity of all disks as a single virtual file system\n- RDDs: center of Apache Spark; center API"
        },
        {
            "cell_type": "markdown",
            "metadata": {},
            "source": "- distributed, immutable collection or lists of datasets\n- could be created from HDFS(Hadoop Distributed File System), ObjectStore, NoSQL, simple file etc.\n- it is stored in memory, but spillable to disk\n- lazy, need to be called for computation "
        },
        {
            "cell_type": "markdown",
            "metadata": {},
            "source": "https://spark.apache.org/docs/latest/api/python/pyspark.html#pyspark.RDD"
        },
        {
            "cell_type": "code",
            "execution_count": 1,
            "metadata": {},
            "outputs": [
                {
                    "name": "stdout",
                    "output_type": "stream",
                    "text": "Collecting pyspark\n\u001b[?25l  Downloading https://files.pythonhosted.org/packages/9a/5a/271c416c1c2185b6cb0151b29a91fff6fcaed80173c8584ff6d20e46b465/pyspark-2.4.5.tar.gz (217.8MB)\n\u001b[K     |\u2588\u2588\u2588\u2588\u2588\u2588\u2588\u2588\u2588\u2588\u2588\u2588\u2588\u2588\u2588\u2588\u2588\u2588\u2588\u2588\u2588\u2588\u2588\u2588\u2588\u2588\u2588\u2588\u2588\u2588\u2588\u2588| 217.8MB 189kB/s  eta 0:00:01\n\u001b[?25hCollecting py4j==0.10.7 (from pyspark)\n\u001b[?25l  Downloading https://files.pythonhosted.org/packages/e3/53/c737818eb9a7dc32a7cd4f1396e787bd94200c3997c72c1dbe028587bd76/py4j-0.10.7-py2.py3-none-any.whl (197kB)\n\u001b[K     |\u2588\u2588\u2588\u2588\u2588\u2588\u2588\u2588\u2588\u2588\u2588\u2588\u2588\u2588\u2588\u2588\u2588\u2588\u2588\u2588\u2588\u2588\u2588\u2588\u2588\u2588\u2588\u2588\u2588\u2588\u2588\u2588| 204kB 32.6MB/s eta 0:00:01\n\u001b[?25hBuilding wheels for collected packages: pyspark\n  Building wheel for pyspark (setup.py) ... \u001b[?25ldone\n\u001b[?25h  Stored in directory: /home/dsxuser/.cache/pip/wheels/bf/db/04/61d66a5939364e756eb1c1be4ec5bdce6e04047fc7929a3c3c\nSuccessfully built pyspark\nInstalling collected packages: py4j, pyspark\nSuccessfully installed py4j-0.10.7 pyspark-2.4.5\n"
                }
            ],
            "source": "!pip install pyspark"
        },
        {
            "cell_type": "code",
            "execution_count": 5,
            "metadata": {},
            "outputs": [],
            "source": "# import libraries\nimport pyspark as ps\nfrom pyspark import SparkContext\nsc = SparkContext.getOrCreate()"
        },
        {
            "cell_type": "code",
            "execution_count": 19,
            "metadata": {},
            "outputs": [
                {
                    "data": {
                        "text/plain": "'\\ntry:\\n  from pyspark import SparkContext, SparkConf\\n  from pyspark.sql import SparkSession\\nexcept ImportError as e:\\n  printmd(\\'<<<<<!!!!! Please restart your kernel after installing Apache Spark !!!!!>>>>>\\')\\n\\nsc = SparkContext.getOrCreate(SparkConf().setMaster(\"local[*]\"))\\n\\nspark = SparkSession   .builder   .getOrCreate()\\n'"
                    },
                    "execution_count": 19,
                    "metadata": {},
                    "output_type": "execute_result"
                }
            ],
            "source": "  # set up the environment\n'''\ntry:\n    from pyspark import SparkContext, SparkConf\n    from pyspark.sql import SparkSession\nexcept ImportError as e:\n    printmd('<<<<<!!!!! Please restart your kernel after installing Apache Spark !!!!!>>>>>')\n\nsc = SparkContext.getOrCreate(SparkConf().setMaster(\"local[*]\"))\n\nspark = SparkSession \\\n    .builder \\\n    .getOrCreate()\n'''"
        },
        {
            "cell_type": "code",
            "execution_count": 25,
            "metadata": {},
            "outputs": [],
            "source": "# get a list of date from 0 to 99\nrdd = sc.parallelize(range(100))\n# range(start, end=None, step=1, numSlices=None)[source]\n\n# RDD is lazy; need to execute a function to get results"
        },
        {
            "cell_type": "code",
            "execution_count": 26,
            "metadata": {},
            "outputs": [
                {
                    "data": {
                        "text/plain": "PythonRDD[17] at RDD at PythonRDD.scala:53"
                    },
                    "execution_count": 26,
                    "metadata": {},
                    "output_type": "execute_result"
                }
            ],
            "source": "# a list number from 100, 199, take every other element\nrdd = sc.parallelize(range(100, 200, 2))\nrdd"
        },
        {
            "cell_type": "code",
            "execution_count": 27,
            "metadata": {},
            "outputs": [
                {
                    "data": {
                        "text/plain": "50"
                    },
                    "execution_count": 27,
                    "metadata": {},
                    "output_type": "execute_result"
                }
            ],
            "source": "# count the number of values\nrdd.count()"
        },
        {
            "cell_type": "code",
            "execution_count": 28,
            "metadata": {},
            "outputs": [
                {
                    "name": "stdout",
                    "output_type": "stream",
                    "text": "[100, 102, 104, 106, 108, 110, 112, 114, 116, 118, 120, 122, 124, 126, 128, 130, 132, 134, 136, 138, 140, 142, 144, 146, 148, 150, 152, 154, 156, 158, 160, 162, 164, 166, 168, 170, 172, 174, 176, 178, 180, 182, 184, 186, 188, 190, 192, 194, 196, 198]\n"
                }
            ],
            "source": "# print out all values in rdd\nprint(rdd.collect())\n\n# use when working with small number of items; otherwise, it will crush  "
        },
        {
            "cell_type": "code",
            "execution_count": 29,
            "metadata": {},
            "outputs": [
                {
                    "data": {
                        "text/plain": "[100, 102, 104, 106, 108, 110, 112, 114, 116, 118, 120, 122, 124, 126, 128]"
                    },
                    "execution_count": 29,
                    "metadata": {},
                    "output_type": "execute_result"
                }
            ],
            "source": "# check the first 15 numbers\nrdd.take(15)"
        },
        {
            "cell_type": "code",
            "execution_count": 30,
            "metadata": {},
            "outputs": [
                {
                    "data": {
                        "text/plain": "7450"
                    },
                    "execution_count": 30,
                    "metadata": {},
                    "output_type": "execute_result"
                }
            ],
            "source": "# sum of all values\nrdd.sum()"
        },
        {
            "cell_type": "code",
            "execution_count": null,
            "metadata": {},
            "outputs": [],
            "source": "# no compuation is done as the no calculation is needed \nsc.parallelize(range(50, 101)).reduce(lambda a, b: a + b)\n\n# sum from 1 to 100"
        },
        {
            "cell_type": "markdown",
            "metadata": {},
            "source": "## Transformation operation - Map: create a new RDD with resulting values"
        },
        {
            "cell_type": "code",
            "execution_count": 15,
            "metadata": {},
            "outputs": [
                {
                    "data": {
                        "text/plain": "[0,\n 1,\n 4,\n 9,\n 16,\n 25,\n 36,\n 49,\n 64,\n 81,\n 100,\n 121,\n 144,\n 169,\n 196,\n 225,\n 256,\n 289,\n 324,\n 361]"
                    },
                    "execution_count": 15,
                    "metadata": {},
                    "output_type": "execute_result"
                }
            ],
            "source": "# map the function to the first 10 values\nrdd.map(lambda x: x*x).take(20)"
        },
        {
            "cell_type": "code",
            "execution_count": 51,
            "metadata": {},
            "outputs": [
                {
                    "data": {
                        "text/plain": "[('panda', 1),\n ('elephant', 1),\n ('dog', 1),\n ('cat', 1),\n ('fish', 1),\n ('bear', 1)]"
                    },
                    "execution_count": 51,
                    "metadata": {},
                    "output_type": "execute_result"
                }
            ],
            "source": "# add 1 to every str value and form a tuple\n\nx = sc.parallelize(['panda', 'elephant', 'dog', 'cat', 'fish', 'bear'])\ny = x.map(lambda x: (x, 1))\ny.collect()"
        },
        {
            "cell_type": "code",
            "execution_count": 52,
            "metadata": {},
            "outputs": [
                {
                    "data": {
                        "text/plain": "[('panda', 5),\n ('elephant', 8),\n ('dog', 3),\n ('cat', 3),\n ('fish', 4),\n ('bear', 4)]"
                    },
                    "execution_count": 52,
                    "metadata": {},
                    "output_type": "execute_result"
                }
            ],
            "source": "# make a tuple with its length\nx = sc.parallelize(['panda', 'elephant', 'dog', 'cat', 'fish', 'bear'])\ny = x.map(lambda x: (x, len(x)))\ny.collect()"
        },
        {
            "cell_type": "markdown",
            "metadata": {},
            "source": "## reduceByKey transformation function: \n- merges the values for each key using an associative reduce function"
        },
        {
            "cell_type": "markdown",
            "metadata": {},
            "source": "**3 variants of this function:**\n- reduceByKey(function): generate a hash-partitioned output with existing partitioner\n- reduceByKey(function, [numPartition]): generate a hash-partitioned output with the number of partitions by numPartition \n- reduceByKey(partitioner, function): generate output using partitioner object"
        },
        {
            "cell_type": "code",
            "execution_count": 56,
            "metadata": {},
            "outputs": [
                {
                    "data": {
                        "text/plain": "[('b', 5), ('c', 1), ('d', 2), ('a', 3)]"
                    },
                    "execution_count": 56,
                    "metadata": {},
                    "output_type": "execute_result"
                }
            ],
            "source": "# create a paired rdd with key, val pairs\nrdd_x = sc.parallelize([(\"a\", 1), (\"b\", 1), (\"a\", 1), (\"a\", 1),\n                    (\"b\", 1), (\"b\", 1), (\"b\", 1), (\"b\", 1),\n                       (\"c\", 1), (\"d\", 2)])\n\n# apply reduceByKey function\nresult_y = rdd_x.reduceByKey(lambda total, n: total + n )\nresult_y.collect()"
        },
        {
            "cell_type": "markdown",
            "metadata": {},
            "source": "## groupByKey transformation function: \n- it collects the values for each key in a form of an iterator\n- it shuffles data from multiple partitions and create another RDD"
        },
        {
            "cell_type": "code",
            "execution_count": 78,
            "metadata": {},
            "outputs": [
                {
                    "name": "stdout",
                    "output_type": "stream",
                    "text": "output: 5\n"
                }
            ],
            "source": "# create a paired rdd with key, val pairs\nrdd_x = sc.parallelize([(\"a\", 3), (\"b\", 2), (\"a\", 3), (\"a\", 1),\n                    (\"b\", 1), (\"b\", 1), (\"b\", 1), (\"b\", 1), (\"d\", 1),\n                       (\"c\", 1), (\"d\", 1), (\"c\",5), (\"c\", 4)], 5)\n\n# check partitions\nres_y = rdd_x.groupByKey()\nprint(\"output:\", res_y.getNumPartitions())"
        },
        {
            "cell_type": "code",
            "execution_count": 79,
            "metadata": {},
            "outputs": [
                {
                    "name": "stdout",
                    "output_type": "stream",
                    "text": "c [1, 5, 4]\nd [1, 1]\na [3, 3, 1]\nb [2, 1, 1, 1, 1]\n"
                }
            ],
            "source": "## Print Output\nfor i in res_y.collect():\n    print(i[0], [v for v in i[1]])"
        },
        {
            "cell_type": "code",
            "execution_count": 80,
            "metadata": {},
            "outputs": [
                {
                    "name": "stdout",
                    "output_type": "stream",
                    "text": "output: 2\n"
                }
            ],
            "source": "# with predefined partiions\ny = rdd_x.groupByKey(2)\nprint(\"output:\", y.getNumPartitions())"
        },
        {
            "cell_type": "code",
            "execution_count": 81,
            "metadata": {},
            "outputs": [
                {
                    "name": "stdout",
                    "output_type": "stream",
                    "text": "b [2, 1, 1, 1, 1]\nd [1, 1]\nc [1, 5, 4]\na [3, 3, 1]\n"
                }
            ],
            "source": "## Print Output\nfor i in y.collect():\n    print(i[0], [v for v in i[1]])"
        },
        {
            "cell_type": "code",
            "execution_count": 86,
            "metadata": {},
            "outputs": [],
            "source": "x = sc.parallelize([\n    (\"USA\", 1), (\"USA\", 2), (\"India\", 1),\n    (\"UK\", 1), (\"India\", 4), (\"India\", 9),\n    (\"USA\", 8), (\"USA\", 3), (\"India\", 4),\n    (\"UK\", 6), (\"UK\", 9), (\"UK\", 5)], 3)\ny = x.groupByKey()"
        },
        {
            "cell_type": "code",
            "execution_count": 88,
            "metadata": {},
            "outputs": [
                {
                    "name": "stdout",
                    "output_type": "stream",
                    "text": "USA [1, 2, 8, 3]\nUK [1, 6, 9, 5]\nIndia [1, 4, 9, 4]\n"
                }
            ],
            "source": "for pair in y.collect():\n    print(pair[0], [v for v in pair[1]])"
        },
        {
            "cell_type": "markdown",
            "metadata": {},
            "source": "## Define a function to decies if a value is bigger than 50 (True) or not (False)"
        },
        {
            "cell_type": "code",
            "execution_count": 33,
            "metadata": {},
            "outputs": [],
            "source": "# define a function\ndef comp_50(val):\n    if val > 50:\n        return True\n    else:\n        return False\n\n    \"\"\"\n# simplify this function \ndef comp_50(val):\n    return val > 50 # comparison: retuns a boolean\n    \"\"\""
        },
        {
            "cell_type": "code",
            "execution_count": 35,
            "metadata": {},
            "outputs": [
                {
                    "name": "stdout",
                    "output_type": "stream",
                    "text": "True\nFalse\n"
                }
            ],
            "source": "print(comp_50(65))\nprint(comp_50(29))"
        },
        {
            "cell_type": "code",
            "execution_count": 37,
            "metadata": {},
            "outputs": [],
            "source": "# use a lambda function\ncomp_50 = lambda val: val > 50"
        },
        {
            "cell_type": "code",
            "execution_count": 38,
            "metadata": {},
            "outputs": [
                {
                    "name": "stdout",
                    "output_type": "stream",
                    "text": "True\nFalse\n"
                }
            ],
            "source": "print(comp_50(65))\nprint(comp_50(29))"
        },
        {
            "cell_type": "code",
            "execution_count": 40,
            "metadata": {},
            "outputs": [
                {
                    "name": "stdout",
                    "output_type": "stream",
                    "text": "[26, 92, 30, 1, 62, 12, 40, 43, 96, 19, 61, 18, 46, 51, 64, 95, 23, 65, 78, 13, 32, 21, 70, 90, 20, 91, 11, 49, 82, 6, 45, 76, 29, 98, 99, 88, 84, 38, 93, 79, 58, 67, 60, 35, 53, 14, 85, 71, 41, 2, 55, 97, 54, 34, 89, 25, 33, 59, 8, 48, 87, 94, 3, 63, 83, 68, 24, 15, 56, 75, 44, 74, 27, 39, 10, 50, 81, 42, 86, 5, 28, 73, 52, 47, 36, 31, 16, 9, 66, 7, 37, 4, 77, 69, 17, 57, 80, 72, 22, 0]\n"
                }
            ],
            "source": "# shuffle our list to make it a bit more interesting\nfrom random import shuffle\n\nls = list(range(100))\nshuffle(ls)\nprint(ls) \n\n# after shuffle(), get data randomly listed"
        },
        {
            "cell_type": "markdown",
            "metadata": {},
            "source": "## Use rdd to filter data\n\n- .filter(function)"
        },
        {
            "cell_type": "code",
            "execution_count": 44,
            "metadata": {},
            "outputs": [
                {
                    "name": "stdout",
                    "output_type": "stream",
                    "text": "[50, 51, 52, 53, 54, 55, 56, 57, 58, 59, 60, 61, 62, 63, 64, 65, 66, 67, 68, 69, 70, 71, 72, 73, 74, 75, 76, 77, 78, 79, 80, 81, 82, 83, 84, 85, 86, 87, 88, 89, 90, 91, 92, 93, 94, 95, 96, 97, 98, 99, 100]\n"
                }
            ],
            "source": "# create a list of bumbers bet 50 and 100\nls = list(range(50, 101))\nrdd_ls = sc.parallelize(ls)\nprint(rdd_ls.collect())"
        },
        {
            "cell_type": "code",
            "execution_count": 45,
            "metadata": {},
            "outputs": [
                {
                    "data": {
                        "text/plain": "51"
                    },
                    "execution_count": 45,
                    "metadata": {},
                    "output_type": "execute_result"
                }
            ],
            "source": "# check the number of values \nrdd_ls.count()"
        },
        {
            "cell_type": "code",
            "execution_count": 46,
            "metadata": {},
            "outputs": [
                {
                    "data": {
                        "text/plain": "[71,\n 72,\n 73,\n 74,\n 75,\n 76,\n 77,\n 78,\n 79,\n 80,\n 81,\n 82,\n 83,\n 84,\n 85,\n 86,\n 87,\n 88,\n 89,\n 90,\n 91,\n 92,\n 93,\n 94,\n 95,\n 96,\n 97,\n 98,\n 99,\n 100]"
                    },
                    "execution_count": 46,
                    "metadata": {},
                    "output_type": "execute_result"
                }
            ],
            "source": "# filter values - use rdd.filter(function)\ncomp_70 = lambda val: val > 70\nrdd.filter(comp_70).collect()"
        },
        {
            "cell_type": "code",
            "execution_count": 47,
            "metadata": {},
            "outputs": [
                {
                    "name": "stdout",
                    "output_type": "stream",
                    "text": "[71, 72, 73, 74, 75, 76, 77, 78, 79, 80, 81, 82, 83, 84, 85, 86, 87, 88, 89, 90, 91, 92, 93, 94, 95, 96, 97, 98, 99, 100]\n"
                }
            ],
            "source": "# or imbed a lambda function \nprint(rdd_ls.filter(lambda val: val > 70).collect())"
        },
        {
            "cell_type": "code",
            "execution_count": 18,
            "metadata": {},
            "outputs": [
                {
                    "data": {
                        "text/plain": "1500"
                    },
                    "execution_count": 18,
                    "metadata": {},
                    "output_type": "execute_result"
                }
            ],
            "source": "# compute the sum of elements greater than 50 but smaller than 75\n\nrdd.filter(lambda val: val > 50).filter(lambda val: val < 75).sum()"
        },
        {
            "cell_type": "markdown",
            "metadata": {},
            "source": "### practice: find even numbers"
        },
        {
            "cell_type": "code",
            "execution_count": 49,
            "metadata": {},
            "outputs": [
                {
                    "name": "stdout",
                    "output_type": "stream",
                    "text": "[54, 56, 58, 60, 62, 64, 66, 68, 70, 72, 74, 76, 78, 80, 82, 84, 86, 88, 90, 92, 94, 96, 98, 100, 102, 104, 106, 108, 110, 112, 114, 116, 118] 2838\n"
                }
            ],
            "source": "rdd_1 = sc.parallelize(range(53,120))\ny = rdd_1.filter(lambda x: x%2==0)\nprint(y.collect(), y.sum())"
        },
        {
            "cell_type": "markdown",
            "metadata": {},
            "source": "## Shuffle data"
        },
        {
            "cell_type": "code",
            "execution_count": 90,
            "metadata": {},
            "outputs": [],
            "source": "from random import shuffle\nls = list(range(100, 205, 3))\nshuffle(ls)\nrdd = sc.parallelize(ls)"
        },
        {
            "cell_type": "code",
            "execution_count": 93,
            "metadata": {},
            "outputs": [
                {
                    "name": "stdout",
                    "output_type": "stream",
                    "text": "[172, 148, 166, 142, 106, 139, 103, 133, 178, 181, 115, 100, 184, 190, 157, 193, 196, 121, 160, 202, 136, 187, 154, 199, 124, 127, 151, 118, 145, 109, 112, 169, 163, 130, 175]\n35\n"
                }
            ],
            "source": "print(rdd.collect())\nprint(rdd.count())\n\n# values are shuffled in random order"
        },
        {
            "cell_type": "code",
            "execution_count": 95,
            "metadata": {},
            "outputs": [
                {
                    "name": "stdout",
                    "output_type": "stream",
                    "text": "[172, 148, 166, 142, 106, 139, 103, 133, 178, 181]\n"
                }
            ],
            "source": "# take first 10 values\nprint(rdd.take(10))"
        },
        {
            "cell_type": "code",
            "execution_count": 96,
            "metadata": {},
            "outputs": [
                {
                    "data": {
                        "text/plain": "[172,\n 166,\n 178,\n 181,\n 184,\n 190,\n 157,\n 193,\n 196,\n 160,\n 202,\n 187,\n 199,\n 169,\n 163,\n 175]"
                    },
                    "execution_count": 96,
                    "metadata": {},
                    "output_type": "execute_result"
                }
            ],
            "source": "# values biggter than 155\nrdd.filter(lambda x: x> 155).collect()"
        },
        {
            "cell_type": "code",
            "execution_count": 99,
            "metadata": {},
            "outputs": [
                {
                    "data": {
                        "text/plain": "[172, 166, 178, 181, 184, 190, 157, 193, 196, 160, 187, 199, 169, 163, 175]"
                    },
                    "execution_count": 99,
                    "metadata": {},
                    "output_type": "execute_result"
                }
            ],
            "source": "# values bigger than 155, and smaller than 200\nrdd.filter(lambda x: x > 155).filter(lambda x: x < 200).collect()"
        },
        {
            "cell_type": "markdown",
            "metadata": {},
            "source": "## Creating data frame and change df to SQL table"
        },
        {
            "cell_type": "code",
            "execution_count": 151,
            "metadata": {},
            "outputs": [],
            "source": "import pyspark\nfrom pyspark.sql import Row\n\nfrom pyspark.context import SparkContext\nsc = SparkContext.getOrCreate()\n\nfrom pyspark.sql.session import SparkSession\nspark = SparkSession(sc)"
        },
        {
            "cell_type": "code",
            "execution_count": 101,
            "metadata": {},
            "outputs": [
                {
                    "name": "stdout",
                    "output_type": "stream",
                    "text": "+---+------+\n| id| value|\n+---+------+\n|  1|value1|\n|  2|value2|\n+---+------+\n\n"
                }
            ],
            "source": "df = spark.createDataFrame([Row(id =1, value = 'value1'), Row(id =2, value = 'value2')])\ndf.show()"
        },
        {
            "cell_type": "code",
            "execution_count": 102,
            "metadata": {},
            "outputs": [
                {
                    "name": "stdout",
                    "output_type": "stream",
                    "text": "root\n |-- id: long (nullable = true)\n |-- value: string (nullable = true)\n\n"
                }
            ],
            "source": "# check the schema of the df\ndf.printSchema()"
        },
        {
            "cell_type": "markdown",
            "metadata": {},
            "source": "#### register the df as a query table and issue an SQL statement"
        },
        {
            "cell_type": "code",
            "execution_count": 103,
            "metadata": {},
            "outputs": [
                {
                    "name": "stdout",
                    "output_type": "stream",
                    "text": "+------+\n| value|\n+------+\n|value2|\n+------+\n\n"
                },
                {
                    "data": {
                        "text/plain": "'value2'"
                    },
                    "execution_count": 103,
                    "metadata": {},
                    "output_type": "execute_result"
                }
            ],
            "source": "# register the df as temporary query table\ndf.createOrReplaceTempView('df_view')\n\n# execute SQL query\ndf_results = spark.sql('select value from df_view where id = 2') # use sql statements\ndf_results.show()\n\n\n# covert results into str\ndf_results.first().value # .value - grab only the value"
        },
        {
            "cell_type": "code",
            "execution_count": 104,
            "metadata": {},
            "outputs": [
                {
                    "data": {
                        "text/plain": "[Row(id=1, value='value1'), Row(id=2, value='value2')]"
                    },
                    "execution_count": 104,
                    "metadata": {},
                    "output_type": "execute_result"
                }
            ],
            "source": "# returns all records as a list of rows\ndf.collect()"
        },
        {
            "cell_type": "code",
            "execution_count": 105,
            "metadata": {},
            "outputs": [
                {
                    "data": {
                        "text/plain": "['id', 'value']"
                    },
                    "execution_count": 105,
                    "metadata": {},
                    "output_type": "execute_result"
                }
            ],
            "source": "# return columns of the df\ndf.columns"
        },
        {
            "cell_type": "code",
            "execution_count": 106,
            "metadata": {},
            "outputs": [
                {
                    "data": {
                        "text/plain": "2"
                    },
                    "execution_count": 106,
                    "metadata": {},
                    "output_type": "execute_result"
                }
            ],
            "source": "# return number of rows\ndf.count()"
        },
        {
            "cell_type": "code",
            "execution_count": 110,
            "metadata": {},
            "outputs": [
                {
                    "data": {
                        "text/plain": "'value1'"
                    },
                    "execution_count": 110,
                    "metadata": {},
                    "output_type": "execute_result"
                }
            ],
            "source": "# check the value of the 1st row\ndf.first().value"
        },
        {
            "cell_type": "code",
            "execution_count": 26,
            "metadata": {},
            "outputs": [],
            "source": "## query data online "
        },
        {
            "cell_type": "code",
            "execution_count": 27,
            "metadata": {},
            "outputs": [],
            "source": "import pyspark\nfrom pyspark.sql import Row\n\nfrom pyspark.context import SparkContext\nsc = SparkContext.getOrCreate()\n\nfrom pyspark.sql.session import SparkSession\nspark = SparkSession(sc)\nfrom pyspark.sql import SQLContext\n"
        },
        {
            "cell_type": "code",
            "execution_count": 28,
            "metadata": {},
            "outputs": [],
            "source": "sparkSession = SQLContext.getOrCreate(sc).sparkSession"
        },
        {
            "cell_type": "code",
            "execution_count": 29,
            "metadata": {},
            "outputs": [],
            "source": "# cloudant_date = sparkSession.read.format('com.cloudant.spark').\\\n# option(\"cloudant.host\",\"0495289b-1beb-4e6d-888e-315f36925447-bluemix.cloudant.com\"). \\\n# option(\"cloudant.username\",\"0495289b-1beb-4e6d-888e-315f36925447-bluemix\"). \\\n# option(\"cloudant.password\",\"0b7338d23c08afaf12b2a40dfcd5999a8826f0d8dc7b9726f051174d93a36de9\"). \\\n# load(\"washingflat\")\n"
        },
        {
            "cell_type": "markdown",
            "metadata": {},
            "source": "# Stastical computation "
        },
        {
            "cell_type": "code",
            "execution_count": 111,
            "metadata": {},
            "outputs": [],
            "source": "rdd = sc.parallelize(range(100, 200, 2))"
        },
        {
            "cell_type": "markdown",
            "metadata": {},
            "source": "### mean"
        },
        {
            "cell_type": "code",
            "execution_count": 114,
            "metadata": {},
            "outputs": [
                {
                    "data": {
                        "text/plain": "149.0"
                    },
                    "execution_count": 114,
                    "metadata": {},
                    "output_type": "execute_result"
                }
            ],
            "source": "# average\n\nsum_rdd = rdd.sum()\nn = rdd.count()\n\navg = sum_rdd/n\navg"
        },
        {
            "cell_type": "markdown",
            "metadata": {},
            "source": "### median "
        },
        {
            "cell_type": "code",
            "execution_count": 144,
            "metadata": {},
            "outputs": [
                {
                    "name": "stdout",
                    "output_type": "stream",
                    "text": "[100, 102, 104, 106, 108, 110, 112, 114, 116, 118, 120, 122, 124, 126, 128, 130, 132, 134, 136, 138, 140, 142, 144, 146, 148, 150, 152, 154, 156, 158, 160, 162, 164, 166, 168, 170, 172, 174, 176, 178, 180, 182, 184, 186, 188, 190, 192, 194, 196, 198, 203, 300, 402]\n"
                }
            ],
            "source": "# sort the list and pick the middle of the list\nrdd = sc.parallelize(list(range(100, 200, 2)) + [300, 402, 203])\n\n# sort the list\ny = rdd.sortBy(lambda x: x) \nprint(y.collect())"
        },
        {
            "cell_type": "code",
            "execution_count": 145,
            "metadata": {},
            "outputs": [
                {
                    "data": {
                        "text/plain": "[(100, 0),\n (102, 1),\n (104, 2),\n (106, 3),\n (108, 4),\n (110, 5),\n (112, 6),\n (114, 7),\n (116, 8),\n (118, 9),\n (120, 10),\n (122, 11),\n (124, 12),\n (126, 13),\n (128, 14),\n (130, 15),\n (132, 16),\n (134, 17),\n (136, 18),\n (138, 19),\n (140, 20),\n (142, 21),\n (144, 22),\n (146, 23),\n (148, 24),\n (150, 25),\n (152, 26),\n (154, 27),\n (156, 28),\n (158, 29),\n (160, 30),\n (162, 31),\n (164, 32),\n (166, 33),\n (168, 34),\n (170, 35),\n (172, 36),\n (174, 37),\n (176, 38),\n (178, 39),\n (180, 40),\n (182, 41),\n (184, 42),\n (186, 43),\n (188, 44),\n (190, 45),\n (192, 46),\n (194, 47),\n (196, 48),\n (198, 49),\n (203, 50),\n (300, 51),\n (402, 52)]"
                    },
                    "execution_count": 145,
                    "metadata": {},
                    "output_type": "execute_result"
                }
            ],
            "source": "# add index to access the middle of the list\n# rdd.sortBy(lambda x: x).zipWithIndex().collect()\ny.zipWithIndex().collect() \n\n# but the index is the 2nd value"
        },
        {
            "cell_type": "code",
            "execution_count": 146,
            "metadata": {},
            "outputs": [
                {
                    "data": {
                        "text/plain": "[(0, 100),\n (1, 102),\n (2, 104),\n (3, 106),\n (4, 108),\n (5, 110),\n (6, 112),\n (7, 114),\n (8, 116),\n (9, 118),\n (10, 120),\n (11, 122),\n (12, 124),\n (13, 126),\n (14, 128),\n (15, 130),\n (16, 132),\n (17, 134),\n (18, 136),\n (19, 138),\n (20, 140),\n (21, 142),\n (22, 144),\n (23, 146),\n (24, 148),\n (25, 150),\n (26, 152),\n (27, 154),\n (28, 156),\n (29, 158),\n (30, 160),\n (31, 162),\n (32, 164),\n (33, 166),\n (34, 168),\n (35, 170),\n (36, 172),\n (37, 174),\n (38, 176),\n (39, 178),\n (40, 180),\n (41, 182),\n (42, 184),\n (43, 186),\n (44, 188),\n (45, 190),\n (46, 192),\n (47, 194),\n (48, 196),\n (49, 198),\n (50, 203),\n (51, 300),\n (52, 402)]"
                    },
                    "execution_count": 146,
                    "metadata": {},
                    "output_type": "execute_result"
                }
            ],
            "source": "# revise the value and key in a tuple\n\n# sorted_rdd = rdd.sortBy(lambda x: x).zipWithIndex().map(lambda valuekey: (valuekey[1],valuekey[0]))\nsorted_rdd = y.zipWithIndex().map(lambda vk: (vk[1],vk[0]))\nsorted_rdd.collect()"
        },
        {
            "cell_type": "code",
            "execution_count": 147,
            "metadata": {},
            "outputs": [
                {
                    "name": "stdout",
                    "output_type": "stream",
                    "text": "odd case:\n[152]\n"
                }
            ],
            "source": "# find the middle point(s)\nn = sorted_rdd.count()\nif n%2 == 1:\n    ind = (n-1)/2\n    print(\"odd case:\")\n    print(sorted_rdd.lookup(ind))\nelse:\n    ind1 = n/2 -1\n    ind2 = n/2\n    val1 = sorted_rdd.lookup(ind1)[0] # sorted_rdd.lookup(ind1) is a list; need to get values from the list\n    val2 = sorted_rdd.lookup(ind2)[0]\n    print(\"even case\", val1, val2)\n    print((val1 + val2)/2)"
        },
        {
            "cell_type": "markdown",
            "metadata": {},
            "source": "### standard deviation"
        },
        {
            "cell_type": "code",
            "execution_count": 153,
            "metadata": {},
            "outputs": [
                {
                    "data": {
                        "text/plain": "250.78897379071512"
                    },
                    "execution_count": 153,
                    "metadata": {},
                    "output_type": "execute_result"
                }
            ],
            "source": "# standard deviation \nimport math\nrdd = sc.parallelize(list(range(100, 200, 2)) + [300, 402, 203, 305, 421, 2000])\nmean = rdd.sum()/rdd.count()\nstd = math.sqrt(rdd.map(lambda x : pow(x-mean,2)).sum()/rdd.count())\nstd"
        },
        {
            "cell_type": "markdown",
            "metadata": {},
            "source": "### skewness"
        },
        {
            "cell_type": "code",
            "execution_count": 158,
            "metadata": {},
            "outputs": [
                {
                    "data": {
                        "text/plain": "6.637126695176014"
                    },
                    "execution_count": 158,
                    "metadata": {},
                    "output_type": "execute_result"
                }
            ],
            "source": "# skewness = sum{(xi-xmean)^3}/(std^3*n)\n# adjustment normalization term n/((n-1)*(n-2))\nimport math\nrdd = sc.parallelize(list(range(100, 200, 2)) + [300, 402, 203, 305, 421, 2000])\nmean = rdd.sum()/rdd.count()\nstd = math.sqrt(rdd.map(lambda x : pow(x-mean,2)).sum()/rdd.count())\nskew = rdd.map(lambda x : pow(x-mean,3)).sum()/(pow(std,3) * rdd.count())\nskew"
        },
        {
            "cell_type": "markdown",
            "metadata": {},
            "source": "### kurtosis"
        },
        {
            "cell_type": "code",
            "execution_count": 159,
            "metadata": {},
            "outputs": [
                {
                    "data": {
                        "text/plain": "47.636533608102766"
                    },
                    "execution_count": 159,
                    "metadata": {},
                    "output_type": "execute_result"
                }
            ],
            "source": "# kurtosis = sum{(xi-xmean)^4)/(std^4*n)\nimport math\nrdd = sc.parallelize(list(range(100, 200, 2)) + [300, 402, 203, 305, 421, 2000])\nmean = rdd.sum()/rdd.count()\nstd = math.sqrt(rdd.map(lambda x : pow(x-mean,2)).sum()/rdd.count())\nkurt = rdd.map(lambda x : pow(x-mean,4)).sum()/(pow(std,4) * rdd.count())\nkurt"
        },
        {
            "cell_type": "markdown",
            "metadata": {},
            "source": "**Kurtosis** is a measure of outlier content. \n\n- The more outliers are present in examples of fuel consumption where engines didn't fail, the higher the false positive rate gets when choosing a threshold value which is too low.\n- if data is symmtric, fewer outliers; otherise, more outliers, higher kurtosis"
        },
        {
            "cell_type": "markdown",
            "metadata": {},
            "source": "## Covariance\n- how two columns correlate with each other; measure of dependency\n\ncov(X,Y) = 1/n * sum{(xi - xmean)*(yi - ymean))"
        },
        {
            "cell_type": "code",
            "execution_count": 164,
            "metadata": {},
            "outputs": [
                {
                    "data": {
                        "text/plain": "(88.39285714285714, 266.9642857142857)"
                    },
                    "execution_count": 164,
                    "metadata": {},
                    "output_type": "execute_result"
                }
            ],
            "source": "rddX = sc.parallelize(range(100))\nrddY = sc.parallelize(range(100,200))\n\nmeanX = rddX.sum()/rdd.count()\nmeanY = rddY.sum()/rdd.count()\n\nmeanX, meanY"
        },
        {
            "cell_type": "code",
            "execution_count": 165,
            "metadata": {},
            "outputs": [
                {
                    "data": {
                        "text/plain": "[(0, 100),\n (1, 101),\n (2, 102),\n (3, 103),\n (4, 104),\n (5, 105),\n (6, 106),\n (7, 107),\n (8, 108),\n (9, 109)]"
                    },
                    "execution_count": 165,
                    "metadata": {},
                    "output_type": "execute_result"
                }
            ],
            "source": "# combine rddX and rddY\nrddXY = rddx.zip(rddy)\nrddXY.take(10)"
        },
        {
            "cell_type": "code",
            "execution_count": 168,
            "metadata": {},
            "outputs": [
                {
                    "data": {
                        "text/plain": "5401.771683673469"
                    },
                    "execution_count": 168,
                    "metadata": {},
                    "output_type": "execute_result"
                }
            ],
            "source": "# in python 3, lambda(x,y): (x - 10)*(y-5) unpacking is not allowed; use xy: xy[0], xy[1]\ncovXY = rddXY.map(lambda xy : (xy[0]-meanX)*(xy[1]-meanY)).sum()/rddXY.count()\ncovXY\n\n# vaues are not between -1 and + 1"
        },
        {
            "cell_type": "code",
            "execution_count": 169,
            "metadata": {},
            "outputs": [
                {
                    "name": "stdout",
                    "output_type": "stream",
                    "text": "48.434536611127946 120.95911878964458\n0.9220244986680797\n"
                }
            ],
            "source": "# calculate correlation\n# corrXY = covXY/ (stdx*stdy)\nimport math\nstdX = math.sqrt(rddX.map(lambda x : pow(x-meanX,2)).sum()/ rddXY.count())\nstdY = math.sqrt(rddY.map(lambda x : pow(x-meanY,2)).sum()/ rddXY.count())\nprint(stdX,stdY)\n\ncorrXY = covXY/(stdX*stdY)\nprint(corrXY)\n"
        },
        {
            "cell_type": "code",
            "execution_count": 179,
            "metadata": {},
            "outputs": [
                {
                    "name": "stdout",
                    "output_type": "stream",
                    "text": "[(((0, 100), 99), 14), (((1, 101), 98), 123), (((2, 102), 97), 99), (((3, 103), 96), 199), (((4, 104), 95), 64), (((5, 105), 94), 74), (((6, 106), 93), 96), (((7, 107), 92), 166), (((8, 108), 91), 48), (((9, 109), 90), 151)]\n--------------------------------------------------------------------------------------------------------------------------------------------------------------------------------------------------------\n[(0, 100, 99, 14), (1, 101, 98, 123), (2, 102, 97, 99), (3, 103, 96, 199), (4, 104, 95, 64), (5, 105, 94, 74), (6, 106, 93, 96), (7, 107, 92, 166), (8, 108, 91, 48), (9, 109, 90, 151)]\n"
                }
            ],
            "source": "## correlation among 4 columns\nimport random\ncol1 = sc.parallelize(range(100))\ncol2 = sc.parallelize(range(100,200))\ncol3 = sc.parallelize(list(reversed(range(100))))\ncol4 = sc.parallelize(random.sample(range(200),100)) # randomy generate 100 numbers bet 0 and 199\n\n# use spark mllib to do this; and RDD under this\n\nfrom pyspark.mllib.stat import Statistics\n\ndata = col1.zip(col2).zip(col3).zip(col4)\nprint(data.take(10))\n# output tuples within tuples ((0, 100), 99), 79) \nprint(\"----\"*50)\n# flatten the data\ndata_flatten = data.map(lambda abcd: (abcd[0][0][0],abcd[0][0][1],abcd[0][1],abcd[1]))\nprint(data_flatten.take(10))\n# map(lambda abcd: (abcd[0], abcd[1],abcd[2],abcd[3]))"
        },
        {
            "cell_type": "code",
            "execution_count": 180,
            "metadata": {},
            "outputs": [
                {
                    "data": {
                        "text/plain": "array([[ 1.        ,  1.        , -1.        , -0.10841047],\n       [ 1.        ,  1.        , -1.        , -0.10841047],\n       [-1.        , -1.        ,  1.        ,  0.10841047],\n       [-0.10841047, -0.10841047,  0.10841047,  1.        ]])"
                    },
                    "execution_count": 180,
                    "metadata": {},
                    "output_type": "execute_result"
                }
            ],
            "source": "Statistics.corr(data_flatten)"
        },
        {
            "cell_type": "markdown",
            "metadata": {},
            "source": "## Quiz practice"
        },
        {
            "cell_type": "code",
            "execution_count": 181,
            "metadata": {},
            "outputs": [
                {
                    "data": {
                        "text/plain": "[(1, 0),\n (1, 1),\n (1, 2),\n (2, 3),\n (2, 4),\n (3, 5),\n (4, 6),\n (4, 7),\n (5, 8),\n (32, 9),\n (34, 10),\n (34, 11)]"
                    },
                    "execution_count": 181,
                    "metadata": {},
                    "output_type": "execute_result"
                }
            ],
            "source": "ls = [1,2,4,5,34,1,32,4,34,2,1,3]\nrdd = sc.parallelize(ls)\n\n# rdd.mean\nrdd.sortBy(lambda x: x).zipWithIndex().collect()"
        },
        {
            "cell_type": "code",
            "execution_count": 183,
            "metadata": {},
            "outputs": [
                {
                    "name": "stdout",
                    "output_type": "stream",
                    "text": "std =  10.562196741208714\nkurtosis =  3.663124005193276\n"
                }
            ],
            "source": "# kurtosis of ls2\n\nls2=[34,1,23,4,3,3,12,4,3,1]\nrdd = sc.parallelize(ls2)\nmean = rdd.sum()/rdd.count()\n\nimport math\nstd = math.sqrt(rdd.map(lambda x : pow(x-mean,2)).sum()/rdd.count())\nprint(\"std = \", std)\n\nkurt = rdd.map(lambda x : pow(x-mean,4)).sum()/( pow(std,4)*rdd.count())\nprint(\"kurtosis = \", kurt)"
        },
        {
            "cell_type": "code",
            "execution_count": 185,
            "metadata": {},
            "outputs": [
                {
                    "data": {
                        "text/plain": "array([[1.        , 0.70927291],\n       [0.70927291, 1.        ]])"
                    },
                    "execution_count": 185,
                    "metadata": {},
                    "output_type": "execute_result"
                }
            ],
            "source": "# corr between 2 lists\n## correlation among 4 columns\nimport random\na = sc.parallelize([1,2,3,4,5,6,7,8,9,10])\nb = sc.parallelize([7,6,5,4,5,6,7,8,9,10])\n\n# use spark mllib to do this; and RDD under this\n\nfrom pyspark.mllib.stat import Statistics\n\ndata = a.zip(b)\nStatistics.corr(data)"
        },
        {
            "cell_type": "code",
            "execution_count": 186,
            "metadata": {},
            "outputs": [
                {
                    "data": {
                        "text/plain": "3.65"
                    },
                    "execution_count": 186,
                    "metadata": {},
                    "output_type": "execute_result"
                }
            ],
            "source": "# calculate covariance betwen a and b\n\n# in python 3, lambada(x,y): (x - 10)*(y-5) unpacking is not allowed; use xy: xy[0], xy[1]\nmeanA = a.sum()/a.count()\nmeanB = b.sum()/b.count()\ncovAB = data.map(lambda xy : (xy[0]-meanA)*(xy[1]-meanB)).sum()/data.count()\ncovAB"
        },
        {
            "cell_type": "code",
            "execution_count": 188,
            "metadata": {},
            "outputs": [
                {
                    "name": "stdout",
                    "output_type": "stream",
                    "text": "standard deviation of list A: 2.8722813232690143\nstandard deviation of list B: 1.7916472867168916\ncorrelation of list A and B: 0.709272912083725\n"
                }
            ],
            "source": "# calculate correlation betwen a and b\n\nimport math\nstdA = math.sqrt(a.map(lambda x : pow(x-meanA,2)).sum()/ data.count())\nstdB = math.sqrt(b.map(lambda x : pow(x-meanB,2)).sum()/ data.count())\nprint(\"standard deviation of list A:\", stdA)\nprint(\"standard deviation of list B:\", stdB)\n\ncorrAB = covAB/(stdA*stdB)\nprint(\"correlation of list A and B:\", corrAB)"
        },
        {
            "cell_type": "markdown",
            "metadata": {},
            "source": "### Practice with data frames"
        },
        {
            "cell_type": "code",
            "execution_count": 198,
            "metadata": {},
            "outputs": [],
            "source": "try:\n    from pyspark import SparkContext, SparkConf\n    from pyspark.sql import SparkSession\nexcept ImportError as e:\n    printmd('<<<<<!!!!! Please restart your kernel after installing Apache Spark !!!!!>>>>>')"
        },
        {
            "cell_type": "code",
            "execution_count": 205,
            "metadata": {},
            "outputs": [],
            "source": "sc = SparkContext.getOrCreate(SparkConf().setMaster(\"local[*]\"))\n\n# parsing\nspark = SparkSession \\\n    .builder \\\n    .getOrCreate()"
        },
        {
            "cell_type": "code",
            "execution_count": 206,
            "metadata": {},
            "outputs": [
                {
                    "name": "stdout",
                    "output_type": "stream",
                    "text": "--2020-05-11 02:47:23--  https://github.com/IBM/coursera/raw/master/hmp.parquet\nResolving github.com (github.com)... 140.82.114.3\nConnecting to github.com (github.com)|140.82.114.3|:443... connected.\nHTTP request sent, awaiting response... 301 Moved Permanently\nLocation: https://github.com/IBM/skillsnetwork/raw/master/hmp.parquet [following]\n--2020-05-11 02:47:23--  https://github.com/IBM/skillsnetwork/raw/master/hmp.parquet\nReusing existing connection to github.com:443.\nHTTP request sent, awaiting response... 302 Found\nLocation: https://raw.githubusercontent.com/IBM/skillsnetwork/master/hmp.parquet [following]\n--2020-05-11 02:47:24--  https://raw.githubusercontent.com/IBM/skillsnetwork/master/hmp.parquet\nResolving raw.githubusercontent.com (raw.githubusercontent.com)... 151.101.48.133\nConnecting to raw.githubusercontent.com (raw.githubusercontent.com)|151.101.48.133|:443... connected.\nHTTP request sent, awaiting response... 200 OK\nLength: 932997 (911K) [application/octet-stream]\nSaving to: \u2018hmp.parquet\u2019\n\n100%[======================================>] 932,997     --.-K/s   in 0.03s   \n\n2020-05-11 02:47:24 (34.6 MB/s) - \u2018hmp.parquet\u2019 saved [932997/932997]\n\n"
                }
            ],
            "source": "# delete files from previous runs if there is any\n!rm -f hmp.parquet*\n# download data\n!wget https://github.com/IBM/coursera/raw/master/hmp.parquet"
        },
        {
            "cell_type": "code",
            "execution_count": 209,
            "metadata": {},
            "outputs": [],
            "source": "df = spark.read.parquet('hmp.parquet')\n# register a corresponding query table\ndf.createOrReplaceTempView('df')"
        },
        {
            "cell_type": "code",
            "execution_count": 211,
            "metadata": {},
            "outputs": [
                {
                    "name": "stdout",
                    "output_type": "stream",
                    "text": "+---+---+---+--------------------+-----------+\n|  x|  y|  z|              source|      class|\n+---+---+---+--------------------+-----------+\n| 22| 49| 35|Accelerometer-201...|Brush_teeth|\n| 22| 49| 35|Accelerometer-201...|Brush_teeth|\n| 22| 52| 35|Accelerometer-201...|Brush_teeth|\n| 22| 52| 35|Accelerometer-201...|Brush_teeth|\n| 21| 52| 34|Accelerometer-201...|Brush_teeth|\n| 22| 51| 34|Accelerometer-201...|Brush_teeth|\n| 20| 50| 35|Accelerometer-201...|Brush_teeth|\n| 22| 52| 34|Accelerometer-201...|Brush_teeth|\n| 22| 50| 34|Accelerometer-201...|Brush_teeth|\n| 22| 51| 35|Accelerometer-201...|Brush_teeth|\n| 21| 51| 33|Accelerometer-201...|Brush_teeth|\n| 20| 50| 34|Accelerometer-201...|Brush_teeth|\n| 21| 49| 33|Accelerometer-201...|Brush_teeth|\n| 21| 49| 33|Accelerometer-201...|Brush_teeth|\n| 20| 51| 35|Accelerometer-201...|Brush_teeth|\n| 18| 49| 34|Accelerometer-201...|Brush_teeth|\n| 19| 48| 34|Accelerometer-201...|Brush_teeth|\n| 16| 53| 34|Accelerometer-201...|Brush_teeth|\n| 18| 52| 35|Accelerometer-201...|Brush_teeth|\n| 18| 51| 32|Accelerometer-201...|Brush_teeth|\n+---+---+---+--------------------+-----------+\nonly showing top 20 rows\n\n"
                }
            ],
            "source": "df.show()\n# df.printSchema()"
        },
        {
            "cell_type": "markdown",
            "metadata": {},
            "source": "- this is a classification dataset\n\ndetails about the dataset: https://github.com/wchill/HMP_Dataset"
        },
        {
            "cell_type": "markdown",
            "metadata": {},
            "source": "#### check the classes"
        },
        {
            "cell_type": "code",
            "execution_count": 257,
            "metadata": {},
            "outputs": [
                {
                    "name": "stdout",
                    "output_type": "stream",
                    "text": "+--------------+--------+\n|         class|count(1)|\n+--------------+--------+\n| Use_telephone|   15225|\n| Standup_chair|   25417|\n|      Eat_meat|   31236|\n|     Getup_bed|   45801|\n|   Drink_glass|   42792|\n|    Pour_water|   41673|\n|     Comb_hair|   23504|\n|          Walk|   92254|\n|  Climb_stairs|   40258|\n| Sitdown_chair|   25036|\n|   Liedown_bed|   11446|\n|Descend_stairs|   15375|\n|   Brush_teeth|   29829|\n|      Eat_soup|    6683|\n+--------------+--------+\n\n"
                }
            ],
            "source": "# check the classes\nspark.sql(\"select class, count(*) from df group by class\").show()"
        },
        {
            "cell_type": "code",
            "execution_count": 258,
            "metadata": {},
            "outputs": [
                {
                    "name": "stdout",
                    "output_type": "stream",
                    "text": "+--------------+-----+\n|         class|count|\n+--------------+-----+\n| Use_telephone|15225|\n| Standup_chair|25417|\n|      Eat_meat|31236|\n|     Getup_bed|45801|\n|   Drink_glass|42792|\n|    Pour_water|41673|\n|     Comb_hair|23504|\n|          Walk|92254|\n|  Climb_stairs|40258|\n| Sitdown_chair|25036|\n|   Liedown_bed|11446|\n|Descend_stairs|15375|\n|   Brush_teeth|29829|\n|      Eat_soup| 6683|\n+--------------+-----+\n\n"
                }
            ],
            "source": "# or use below\ndf.groupby('class').count().show()"
        },
        {
            "cell_type": "markdown",
            "metadata": {},
            "source": "#### create a bar plot with pixiedust"
        },
        {
            "cell_type": "code",
            "execution_count": 259,
            "metadata": {
                "pixiedust": {
                    "displayParams": {
                        "chartsize": "80",
                        "handlerId": "barChart",
                        "keyFields": "class",
                        "orientation": "horizontal",
                        "valueFields": "count"
                    }
                }
            },
            "outputs": [
                {
                    "data": {
                        "text/html": "<style type=\"text/css\">.pd_warning{display:none;}</style><div class=\"pd_warning\"><em>Hey, there's something awesome here! To see it, open this notebook outside GitHub, in a viewer like Jupyter</em></div><img style=\"max-width:initial !important\" src=\"data:image/png;base64,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\" class=\"pd_save is-viewer-good\">",
                        "text/plain": "<IPython.core.display.HTML object>"
                    },
                    "metadata": {},
                    "output_type": "display_data"
                }
            ],
            "source": "import pixiedust\nfrom pyspark.sql.functions import col\n\ncounts = df.groupBy('class').count().orderBy('count')\ndisplay(counts)"
        },
        {
            "cell_type": "code",
            "execution_count": 250,
            "metadata": {},
            "outputs": [
                {
                    "name": "stdout",
                    "output_type": "stream",
                    "text": "+--------------+-----+\n|         class|count|\n+--------------+-----+\n|      Eat_soup| 6683|\n|   Liedown_bed|11446|\n| Use_telephone|15225|\n|Descend_stairs|15375|\n|     Comb_hair|23504|\n| Sitdown_chair|25036|\n| Standup_chair|25417|\n|   Brush_teeth|29829|\n|      Eat_meat|31236|\n|  Climb_stairs|40258|\n|    Pour_water|41673|\n|   Drink_glass|42792|\n|     Getup_bed|45801|\n|          Walk|92254|\n+--------------+-----+\n\n"
                }
            ],
            "source": "counts.show()\n# a dataframe"
        },
        {
            "cell_type": "code",
            "execution_count": null,
            "metadata": {},
            "outputs": [],
            "source": "result_rdd = result.rdd.map(lambda row : (row.ts, row.voltage))\nresult_array_ts = result_rdd.map(lambda ts_voltage: ts_voltage[0]).collect()\nresult_array_voltage = result_rdd.map(lambda ts_voltage: ts_voltage[1]).collect()\nplt.plot(result_array_ts,result_array_voltage)\nplt.xlabel(\"time\")\nplt.ylabel(\"voltage\")\nplt.show()\n"
        },
        {
            "cell_type": "markdown",
            "metadata": {},
            "source": "#### get more aggregated results using spark.sql"
        },
        {
            "cell_type": "code",
            "execution_count": 263,
            "metadata": {},
            "outputs": [
                {
                    "name": "stdout",
                    "output_type": "stream",
                    "text": "+----+-----+------------------+------------------+-----------------+\n| min|  max|              mean|               std|      minMaxRatio|\n+----+-----+------------------+------------------+-----------------+\n|6683|92254|31894.928571428572|21284.893716741157|13.80427951518779|\n+----+-----+------------------+------------------+-----------------+\n\n"
                }
            ],
            "source": "spark.sql(\n    '''\n    select *, max/min as minMaxRatio\n    from (select min(ct) as min, max(ct) as max, mean(ct) as mean, stddev(ct) as std\n          from (select count(*) as ct\n                from df\n                group by class\n                )\n            )\n    \n''').show()"
        },
        {
            "cell_type": "code",
            "execution_count": 278,
            "metadata": {},
            "outputs": [
                {
                    "name": "stdout",
                    "output_type": "stream",
                    "text": "+----+-----+------------------+------------------+-----------------+\n| min|  max|              mean|               std|      minmaxratio|\n+----+-----+------------------+------------------+-----------------+\n|6683|92254|31894.928571428572|21284.893716741157|13.80427951518779|\n+----+-----+------------------+------------------+-----------------+\n\n"
                }
            ],
            "source": "## use dataframe API\n\nfrom pyspark.sql.functions import col, min, max, mean, stddev\n\ndf.groupby('class').count()\\\n    .select([\n            min(col('count')).alias('min'), \n            max(col('count')).alias('max'),\n            mean(col('count')).alias('mean'),\n            stddev(col('count')).alias('std')])\\\n    .select([col('*'), (col(\"max\") / col(\"min\")).alias('minmaxratio')\n            ]).show()"
        },
        {
            "cell_type": "markdown",
            "metadata": {},
            "source": "##### further practice on df"
        },
        {
            "cell_type": "markdown",
            "metadata": {},
            "source": "- 1. create a table of all classes with the respective counts, but this time, please order the table by the count number, ascending."
        },
        {
            "cell_type": "code",
            "execution_count": 281,
            "metadata": {},
            "outputs": [
                {
                    "name": "stdout",
                    "output_type": "stream",
                    "text": "+--------------+-----+\n|         class|count|\n+--------------+-----+\n|      Eat_soup| 6683|\n|   Liedown_bed|11446|\n| Use_telephone|15225|\n|Descend_stairs|15375|\n|     Comb_hair|23504|\n| Sitdown_chair|25036|\n| Standup_chair|25417|\n|   Brush_teeth|29829|\n|      Eat_meat|31236|\n|  Climb_stairs|40258|\n|    Pour_water|41673|\n|   Drink_glass|42792|\n|     Getup_bed|45801|\n|          Walk|92254|\n+--------------+-----+\n\n"
                }
            ],
            "source": "spark.sql(\n    '''\n    select class, count(*) as count\n    from df\n    group by class\n    order by count asc\n    \n''').show()"
        },
        {
            "cell_type": "markdown",
            "metadata": {},
            "source": "- 2. Pixiedust is a very sophisticated library. It takes care of sorting as well. Please modify the bar chart so that it gets sorted by the number of elements per class, ascending. Hint: It\u2019s an option available in the UI once rendered using the display() function."
        },
        {
            "cell_type": "code",
            "execution_count": 282,
            "metadata": {
                "pixiedust": {
                    "displayParams": {
                        "chartsize": "81",
                        "handlerId": "barChart",
                        "keyFields": "class",
                        "orientation": "horizontal",
                        "sortby": "Values ASC",
                        "title": "Sorted Chart",
                        "valueFields": "count"
                    }
                }
            },
            "outputs": [
                {
                    "data": {
                        "text/html": "<style type=\"text/css\">.pd_warning{display:none;}</style><div class=\"pd_warning\"><em>Hey, there's something awesome here! To see it, open this notebook outside GitHub, in a viewer like Jupyter</em></div><img style=\"max-width:initial !important\" src=\"data:image/png;base64,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\" class=\"pd_save is-viewer-good\">",
                        "text/plain": "<IPython.core.display.HTML object>"
                    },
                    "metadata": {},
                    "output_type": "display_data"
                }
            ],
            "source": "import pixiedust\nfrom pyspark.sql.functions import col\n\ncounts = df.groupBy('class').count().orderBy('count')\ndisplay(counts)"
        },
        {
            "cell_type": "markdown",
            "metadata": {},
            "source": "- 3. Imbalanced classes can cause pain in machine learning. Therefore let\u2019s rebalance. In the flowing we limit the number of elements per class to the amount of the least represented class. This is called undersampling. Other ways of rebalancing can be found here:"
        },
        {
            "cell_type": "code",
            "execution_count": 292,
            "metadata": {},
            "outputs": [],
            "source": "from pyspark.sql.functions import min\n\n# create distinct classes \ndistinct_classes = df.select('class').distinct()\nclasses = [row[0] for row in distinct_classes.collect()]\n\n# compute the number of items in the smallest class \nmin_class = df.groupBy('class').count().select(min('count')).first()[0]\n\n# only select examples for the specific class within this iteration\n# shuffle the order of the elements (by setting fraction to 1.0 sample works like shuffle)\n# return only the first n samples\ndf_balanced = None\nfor cls in classes:\n    df_temp = df.filter(\"class = '\"+cls+\"'\").sample(False, 1.0).limit(min_class)\n                        \n    if df_balanced == None:\n        df_balanced = df_temp\n    else:\n        df_balanced = df_balanced.union(df_temp)"
        },
        {
            "cell_type": "markdown",
            "metadata": {},
            "source": "- Please verify, by using the code cell below, if df_balanced has the same number of elements per class. You should get 6683 elements per class."
        },
        {
            "cell_type": "code",
            "execution_count": 298,
            "metadata": {},
            "outputs": [
                {
                    "name": "stdout",
                    "output_type": "stream",
                    "text": "+--------------+-----+\n|         class|count|\n+--------------+-----+\n| Use_telephone| 6683|\n| Standup_chair| 6683|\n|      Eat_meat| 6683|\n|     Getup_bed| 6683|\n|   Drink_glass| 6683|\n|    Pour_water| 6683|\n|     Comb_hair| 6683|\n|          Walk| 6683|\n|  Climb_stairs| 6683|\n| Sitdown_chair| 6683|\n|   Liedown_bed| 6683|\n|Descend_stairs| 6683|\n|   Brush_teeth| 6683|\n|      Eat_soup| 6683|\n+--------------+-----+\n\n"
                }
            ],
            "source": "df_balanced.groupBy('class').count().show()"
        },
        {
            "cell_type": "code",
            "execution_count": null,
            "metadata": {},
            "outputs": [],
            "source": ""
        },
        {
            "cell_type": "markdown",
            "metadata": {},
            "source": "## Matplotlib for visualization "
        },
        {
            "cell_type": "markdown",
            "metadata": {},
            "source": "-  when there are more data than you can process at once: sample data to work on a smaller amount "
        },
        {
            "cell_type": "code",
            "execution_count": 299,
            "metadata": {},
            "outputs": [],
            "source": "try:\n    from pyspark import SparkContext, SparkConf\n    from pyspark.sql import SparkSession\nexcept ImportError as e:\n    printmd('<<<<<!!!!! Please restart your kernel after installing Apache Spark !!!!!>>>>>')"
        },
        {
            "cell_type": "code",
            "execution_count": 300,
            "metadata": {},
            "outputs": [],
            "source": "sc = SparkContext.getOrCreate(SparkConf().setMaster(\"local[*]\"))\n\nspark = SparkSession \\\n    .builder \\\n    .getOrCreate()"
        },
        {
            "cell_type": "markdown",
            "metadata": {},
            "source": "## exercise 3.1\n- Now it is time to grab a PARQUET file and create a dataframe out of it. Using SparkSQL you can handle it like a database."
        },
        {
            "cell_type": "code",
            "execution_count": 301,
            "metadata": {},
            "outputs": [
                {
                    "name": "stdout",
                    "output_type": "stream",
                    "text": "--2020-05-11 04:49:20--  https://github.com/IBM/coursera/blob/master/coursera_ds/washing.parquet?raw=true\nResolving github.com (github.com)... 140.82.112.3\nConnecting to github.com (github.com)|140.82.112.3|:443... connected.\nHTTP request sent, awaiting response... 301 Moved Permanently\nLocation: https://github.com/IBM/skillsnetwork/blob/master/coursera_ds/washing.parquet?raw=true [following]\n--2020-05-11 04:49:20--  https://github.com/IBM/skillsnetwork/blob/master/coursera_ds/washing.parquet?raw=true\nReusing existing connection to github.com:443.\nHTTP request sent, awaiting response... 302 Found\nLocation: https://github.com/IBM/skillsnetwork/raw/master/coursera_ds/washing.parquet [following]\n--2020-05-11 04:49:20--  https://github.com/IBM/skillsnetwork/raw/master/coursera_ds/washing.parquet\nReusing existing connection to github.com:443.\nHTTP request sent, awaiting response... 302 Found\nLocation: https://raw.githubusercontent.com/IBM/skillsnetwork/master/coursera_ds/washing.parquet [following]\n--2020-05-11 04:49:21--  https://raw.githubusercontent.com/IBM/skillsnetwork/master/coursera_ds/washing.parquet\nResolving raw.githubusercontent.com (raw.githubusercontent.com)... 199.232.8.133\nConnecting to raw.githubusercontent.com (raw.githubusercontent.com)|199.232.8.133|:443... connected.\nHTTP request sent, awaiting response... 200 OK\nLength: 112048 (109K) [application/octet-stream]\nSaving to: \u2018washing.parquet?raw=true\u2019\n\n100%[======================================>] 112,048     --.-K/s   in 0.005s  \n\n2020-05-11 04:49:21 (19.5 MB/s) - \u2018washing.parquet?raw=true\u2019 saved [112048/112048]\n\n"
                }
            ],
            "source": "!wget https://github.com/IBM/coursera/blob/master/coursera_ds/washing.parquet?raw=true\n!mv washing.parquet?raw=true washing.parquet"
        },
        {
            "cell_type": "code",
            "execution_count": 326,
            "metadata": {},
            "outputs": [
                {
                    "name": "stdout",
                    "output_type": "stream",
                    "text": "+--------------------+--------------------+-----+--------+----------+---------+--------+-----+-----------+-------------+-------+\n|                 _id|                _rev|count|flowrate|fluidlevel|frequency|hardness|speed|temperature|           ts|voltage|\n+--------------------+--------------------+-----+--------+----------+---------+--------+-----+-----------+-------------+-------+\n|0d86485d0f88d1f9d...|1-57940679fb8a713...|    4|      11|acceptable|     null|      77| null|        100|1547808723923|   null|\n|0d86485d0f88d1f9d...|1-15ff3a0b304d789...|    2|    null|      null|     null|    null| 1046|       null|1547808729917|   null|\n|0d86485d0f88d1f9d...|1-97c2742b68c7b07...|    4|    null|      null|       71|    null| null|       null|1547808731918|    236|\n|0d86485d0f88d1f9d...|1-eefb903dbe45746...|   19|      11|acceptable|     null|      75| null|         86|1547808738999|   null|\n|0d86485d0f88d1f9d...|1-5f68b4c72813c25...|    7|    null|      null|       75|    null| null|       null|1547808740927|    235|\n|0d86485d0f88d1f9d...|1-cd4b6c57ddbe77e...|    5|    null|      null|     null|    null| 1014|       null|1547808744923|   null|\n|0d86485d0f88d1f9d...|1-a35b25b5bf43aaf...|   32|      11|acceptable|     null|      73| null|         84|1547808752028|   null|\n|0d86485d0f88d1f9d...|1-b717f7289a8476d...|   48|      11|acceptable|     null|      79| null|         84|1547808768065|   null|\n|0d86485d0f88d1f9d...|1-c2f1f8fcf178b2f...|   18|    null|      null|       73|    null| null|       null|1547808773944|    228|\n|0d86485d0f88d1f9d...|1-15033dd9eebb4a8...|   59|      11|acceptable|     null|      72| null|         96|1547808779093|   null|\n|0d86485d0f88d1f9d...|1-753dae825f9a6c2...|   62|      11|acceptable|     null|      73| null|         88|1547808782113|   null|\n|0d86485d0f88d1f9d...|1-b168089f44f03f0...|   13|    null|      null|     null|    null| 1097|       null|1547808784940|   null|\n|0d86485d0f88d1f9d...|1-403b687c6be0dea...|   23|    null|      null|       80|    null| null|       null|1547808788955|    236|\n|0d86485d0f88d1f9d...|1-195551e0455a24b...|   72|      11|acceptable|     null|      77| null|         87|1547808792134|   null|\n|0d86485d0f88d1f9d...|1-060a39fc6c2ddee...|   26|    null|      null|       62|    null| null|       null|1547808797959|    233|\n|0d86485d0f88d1f9d...|1-2234514bffee465...|   27|    null|      null|       61|    null| null|       null|1547808800960|    226|\n|0d86485d0f88d1f9d...|1-4265898bb401db0...|   82|      11|acceptable|     null|      79| null|         96|1547808802154|   null|\n|0d86485d0f88d1f9d...|1-2fbf7ca9a0425a0...|   94|      11|acceptable|     null|      73| null|         90|1547808814186|   null|\n|0d86485d0f88d1f9d...|1-203c0ee6d7fbd21...|   97|      11|acceptable|     null|      77| null|         88|1547808817190|   null|\n|0d86485d0f88d1f9d...|1-47e1965db94fcab...|  104|      11|acceptable|     null|      75| null|         80|1547808824198|   null|\n+--------------------+--------------------+-----+--------+----------+---------+--------+-----+-----------+-------------+-------+\nonly showing top 20 rows\n\n"
                }
            ],
            "source": "df = spark.read.parquet('washing.parquet')\ndf.show()"
        },
        {
            "cell_type": "code",
            "execution_count": 303,
            "metadata": {},
            "outputs": [
                {
                    "name": "stdout",
                    "output_type": "stream",
                    "text": "+--------------------+--------------------+-----+--------+----------+---------+--------+-----+-----------+-------------+-------+\n|                 _id|                _rev|count|flowrate|fluidlevel|frequency|hardness|speed|temperature|           ts|voltage|\n+--------------------+--------------------+-----+--------+----------+---------+--------+-----+-----------+-------------+-------+\n|0d86485d0f88d1f9d...|1-57940679fb8a713...|    4|      11|acceptable|     null|      77| null|        100|1547808723923|   null|\n|0d86485d0f88d1f9d...|1-15ff3a0b304d789...|    2|    null|      null|     null|    null| 1046|       null|1547808729917|   null|\n|0d86485d0f88d1f9d...|1-97c2742b68c7b07...|    4|    null|      null|       71|    null| null|       null|1547808731918|    236|\n|0d86485d0f88d1f9d...|1-eefb903dbe45746...|   19|      11|acceptable|     null|      75| null|         86|1547808738999|   null|\n|0d86485d0f88d1f9d...|1-5f68b4c72813c25...|    7|    null|      null|       75|    null| null|       null|1547808740927|    235|\n|0d86485d0f88d1f9d...|1-cd4b6c57ddbe77e...|    5|    null|      null|     null|    null| 1014|       null|1547808744923|   null|\n|0d86485d0f88d1f9d...|1-a35b25b5bf43aaf...|   32|      11|acceptable|     null|      73| null|         84|1547808752028|   null|\n|0d86485d0f88d1f9d...|1-b717f7289a8476d...|   48|      11|acceptable|     null|      79| null|         84|1547808768065|   null|\n|0d86485d0f88d1f9d...|1-c2f1f8fcf178b2f...|   18|    null|      null|       73|    null| null|       null|1547808773944|    228|\n|0d86485d0f88d1f9d...|1-15033dd9eebb4a8...|   59|      11|acceptable|     null|      72| null|         96|1547808779093|   null|\n|0d86485d0f88d1f9d...|1-753dae825f9a6c2...|   62|      11|acceptable|     null|      73| null|         88|1547808782113|   null|\n|0d86485d0f88d1f9d...|1-b168089f44f03f0...|   13|    null|      null|     null|    null| 1097|       null|1547808784940|   null|\n|0d86485d0f88d1f9d...|1-403b687c6be0dea...|   23|    null|      null|       80|    null| null|       null|1547808788955|    236|\n|0d86485d0f88d1f9d...|1-195551e0455a24b...|   72|      11|acceptable|     null|      77| null|         87|1547808792134|   null|\n|0d86485d0f88d1f9d...|1-060a39fc6c2ddee...|   26|    null|      null|       62|    null| null|       null|1547808797959|    233|\n|0d86485d0f88d1f9d...|1-2234514bffee465...|   27|    null|      null|       61|    null| null|       null|1547808800960|    226|\n|0d86485d0f88d1f9d...|1-4265898bb401db0...|   82|      11|acceptable|     null|      79| null|         96|1547808802154|   null|\n|0d86485d0f88d1f9d...|1-2fbf7ca9a0425a0...|   94|      11|acceptable|     null|      73| null|         90|1547808814186|   null|\n|0d86485d0f88d1f9d...|1-203c0ee6d7fbd21...|   97|      11|acceptable|     null|      77| null|         88|1547808817190|   null|\n|0d86485d0f88d1f9d...|1-47e1965db94fcab...|  104|      11|acceptable|     null|      75| null|         80|1547808824198|   null|\n+--------------------+--------------------+-----+--------+----------+---------+--------+-----+-----------+-------------+-------+\nonly showing top 20 rows\n\n"
                }
            ],
            "source": "# use Spark SQL\ndf.createOrReplaceTempView(\"washing\")\nspark.sql(\"SELECT * FROM washing\").show()"
        },
        {
            "cell_type": "code",
            "execution_count": 308,
            "metadata": {},
            "outputs": [
                {
                    "data": {
                        "text/plain": "([Row(voltage=236),\n  Row(voltage=235),\n  Row(voltage=228),\n  Row(voltage=236),\n  Row(voltage=233),\n  Row(voltage=226),\n  Row(voltage=235),\n  Row(voltage=220),\n  Row(voltage=225),\n  Row(voltage=239)],\n 448)"
                    },
                    "execution_count": 308,
                    "metadata": {},
                    "output_type": "execute_result"
                }
            ],
            "source": "result = spark.sql('select voltage from washing where voltage is not null')\nresult.take(10), result.count()\n# not in the format we want"
        },
        {
            "cell_type": "code",
            "execution_count": 309,
            "metadata": {},
            "outputs": [
                {
                    "data": {
                        "text/plain": "43"
                    },
                    "execution_count": 309,
                    "metadata": {},
                    "output_type": "execute_result"
                }
            ],
            "source": "# format result in an array\n\nresult_array = result.rdd.map(lambda row: row.voltage).sample(False, 0.1).collect() # randomly sample 10% data\nlen(result_array) "
        },
        {
            "cell_type": "code",
            "execution_count": 310,
            "metadata": {},
            "outputs": [],
            "source": "# plot the data \nimport matplotlib.pyplot as plt\n%matplotlib inline"
        },
        {
            "cell_type": "code",
            "execution_count": 311,
            "metadata": {},
            "outputs": [
                {
                    "data": {
                        "image/png": "[encoded data removed]",
                        "text/plain": "<Figure size 432x288 with 1 Axes>"
                    },
                    "metadata": {
                        "needs_background": "light"
                    },
                    "output_type": "display_data"
                }
            ],
            "source": "plt.boxplot(result_array)\nplt.show()"
        },
        {
            "cell_type": "code",
            "execution_count": 316,
            "metadata": {},
            "outputs": [
                {
                    "name": "stdout",
                    "output_type": "stream",
                    "text": "+-------+-------------+\n|voltage|           ts|\n+-------+-------------+\n|    221|1547808722910|\n|    223|1547808725914|\n|    222|1547808728916|\n|    236|1547808731918|\n|    234|1547808734922|\n|    234|1547808737926|\n|    235|1547808740927|\n|    235|1547808743928|\n|    222|1547808746929|\n|    225|1547808749929|\n|    227|1547808752930|\n|    224|1547808755932|\n|    235|1547808758933|\n|    230|1547808761934|\n|    221|1547808764937|\n|    224|1547808767938|\n|    239|1547808770939|\n|    228|1547808773944|\n|    235|1547808776948|\n|    220|1547808779950|\n+-------+-------------+\nonly showing top 20 rows\n\n"
                }
            ],
            "source": "result = spark.sql(\"select voltage,ts from washing where voltage is not null order by ts asc\")\nresult.show()"
        },
        {
            "cell_type": "code",
            "execution_count": 319,
            "metadata": {},
            "outputs": [
                {
                    "name": "stdout",
                    "output_type": "stream",
                    "text": "[1547808734922, 1547808767938, 1547808770939, 1547808806965, 1547808833983, 1547808836984, 1547808888076, 1547808903087, 1547808927099, 1547808981157, 1547808996171, 1547809035209, 1547809080236, 1547809101247, 1547809122262]\n[234, 224, 239, 221, 222, 224, 220, 220, 234, 228, 255, 222, 235, 232, 235]\n"
                }
            ],
            "source": "# get the distribution of voltage over time\nresult = spark.sql('''select voltage,ts \n                   from washing \n                   where voltage is not null \n                   order by ts asc ''')\nresult_rdd = result.rdd.sample(False,0.1).map(lambda row : (row.ts, row.voltage))\nresult_array_ts = result_rdd.map(lambda ts_voltage: ts_voltage[0]).collect()\nresult_array_voltage = result_rdd.map(lambda ts_voltage: ts_voltage[1]).collect()\nprint(result_array_ts[:15])\nprint(result_array_voltage[:15])"
        },
        {
            "cell_type": "code",
            "execution_count": 320,
            "metadata": {},
            "outputs": [
                {
                    "data": {
                        "image/png": "[encoded data removed]",
                        "text/plain": "<Figure size 432x288 with 1 Axes>"
                    },
                    "metadata": {
                        "needs_background": "light"
                    },
                    "output_type": "display_data"
                }
            ],
            "source": "# plot data\nplt.plot(result_array_ts,result_array_voltage)\nplt.xlabel(\"time\")\nplt.ylabel(\"voltage\")\nplt.show()"
        },
        {
            "cell_type": "code",
            "execution_count": 321,
            "metadata": {},
            "outputs": [
                {
                    "name": "stdout",
                    "output_type": "stream",
                    "text": "+-------------+-------------+\n|      min(ts)|      max(ts)|\n+-------------+-------------+\n|1547808720911|1547810064867|\n+-------------+-------------+\n\n"
                }
            ],
            "source": "# chekc the min and max time\nspark.sql(\"select min(ts),max(ts) from washing\").show()"
        },
        {
            "cell_type": "code",
            "execution_count": 322,
            "metadata": {},
            "outputs": [
                {
                    "data": {
                        "image/png": "[encoded data removed]",
                        "text/plain": "<Figure size 432x288 with 1 Axes>"
                    },
                    "metadata": {
                        "needs_background": "light"
                    },
                    "output_type": "display_data"
                }
            ],
            "source": "# show data for an hour\n# an interval of 60 minutes (10006060)=3600000 within the range above \n# (note that we have removed the sample function because the data set is already reduced)\n\nresult = spark.sql(\n\"\"\"\nselect voltage,ts from washing \n    where voltage is not null and \n    ts > 1547808720911 and\n    ts <= 1547810064867+3600000\n    order by ts asc\n\"\"\")\nresult_rdd = result.rdd.map(lambda row : (row.ts,row.voltage))\nresult_array_ts = result_rdd.map(lambda ts_voltage: ts_voltage[0]).collect()\nresult_array_voltage = result_rdd.map(lambda ts_voltage: ts_voltage[1]).collect()\nplt.plot(result_array_ts,result_array_voltage)\nplt.xlabel(\"time\")\nplt.ylabel(\"voltage\")\nplt.show()\n"
        },
        {
            "cell_type": "code",
            "execution_count": 323,
            "metadata": {},
            "outputs": [],
            "source": "# 3-d Scatterplot\nresult_df = spark.sql(\"\"\"\nselect hardness,temperature,flowrate from washing\n    where hardness is not null and \n    temperature is not null and \n    flowrate is not null\n\"\"\")\nresult_rdd = result_df.rdd.sample(False,0.1).map(lambda row : (row.hardness,row.temperature,row.flowrate))\nresult_array_hardness = result_rdd.map(lambda hardness_temperature_flowrate: hardness_temperature_flowrate[0]).collect()\nresult_array_temperature = result_rdd.map(lambda hardness_temperature_flowrate: hardness_temperature_flowrate[1]).collect()\nresult_array_flowrate = result_rdd.map(lambda hardness_temperature_flowrate: hardness_temperature_flowrate[2]).collect()"
        },
        {
            "cell_type": "code",
            "execution_count": 324,
            "metadata": {},
            "outputs": [
                {
                    "data": {
                        "image/png": "[encoded data removed]",
                        "text/plain": "<Figure size 432x288 with 1 Axes>"
                    },
                    "metadata": {
                        "needs_background": "light"
                    },
                    "output_type": "display_data"
                }
            ],
            "source": "from mpl_toolkits.mplot3d import Axes3D\n\nfig = plt.figure()\nax = fig.add_subplot(111, projection='3d')\n\nax.scatter(result_array_hardness,result_array_temperature,result_array_flowrate, c='r', marker='o')\n\nax.set_xlabel('hardness')\nax.set_ylabel('temperature')\nax.set_zlabel('flowrate')\n\nplt.show()"
        },
        {
            "cell_type": "markdown",
            "metadata": {},
            "source": "You will notice that the individual points resemble in some sort of plane. But this is not a surprise. Actually we can draw the following conclusions from the plot:\n- most of the data points are lying around hardness 60-80, temperature 80-100 and flowrate 80-100\n- there are some outliers, especially when it comes to the range of hardness 100-200\n- the data follows some narrow boundaries"
        },
        {
            "cell_type": "code",
            "execution_count": 325,
            "metadata": {},
            "outputs": [
                {
                    "data": {
                        "image/png": "[encoded data removed]",
                        "text/plain": "<Figure size 432x288 with 1 Axes>"
                    },
                    "metadata": {
                        "needs_background": "light"
                    },
                    "output_type": "display_data"
                }
            ],
            "source": "# double check the distrubution of occurrences\nplt.hist(result_array_hardness)\nplt.show()\n"
        },
        {
            "cell_type": "markdown",
            "metadata": {},
            "source": ""
        },
        {
            "cell_type": "code",
            "execution_count": 207,
            "metadata": {},
            "outputs": [],
            "source": ""
        },
        {
            "cell_type": "code",
            "execution_count": null,
            "metadata": {},
            "outputs": [],
            "source": ""
        },
        {
            "cell_type": "code",
            "execution_count": null,
            "metadata": {},
            "outputs": [],
            "source": ""
        }
    ],
    "metadata": {
        "kernelspec": {
            "display_name": "Python 3.6",
            "language": "python",
            "name": "python3"
        },
        "language_info": {
            "codemirror_mode": {
                "name": "ipython",
                "version": 3
            },
            "file_extension": ".py",
            "mimetype": "text/x-python",
            "name": "python",
            "nbconvert_exporter": "python",
            "pygments_lexer": "ipython3",
            "version": "3.6.9"
        }
    },
    "nbformat": 4,
    "nbformat_minor": 1
}